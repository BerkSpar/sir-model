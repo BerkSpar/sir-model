{
  "nbformat": 4,
  "nbformat_minor": 0,
  "metadata": {
    "kernelspec": {
      "display_name": "Python 3",
      "language": "python",
      "name": "python3"
    },
    "language_info": {
      "codemirror_mode": {
        "name": "ipython",
        "version": 3
      },
      "file_extension": ".py",
      "mimetype": "text/x-python",
      "name": "python",
      "nbconvert_exporter": "python",
      "pygments_lexer": "ipython3",
      "version": "3.6.7"
    },
    "colab": {
      "name": "sir.ipynb",
      "provenance": [],
      "include_colab_link": true
    }
  },
  "cells": [
    {
      "cell_type": "markdown",
      "metadata": {
        "id": "view-in-github",
        "colab_type": "text"
      },
      "source": [
        "<a href=\"https://colab.research.google.com/github/BerkSpar/sir_model/blob/master/sir.ipynb\" target=\"_parent\"><img src=\"https://colab.research.google.com/assets/colab-badge.svg\" alt=\"Open In Colab\"/></a>"
      ]
    },
    {
      "cell_type": "code",
      "metadata": {
        "id": "61ddDtC_UoPU",
        "colab_type": "code",
        "colab": {}
      },
      "source": [
        "#Importação de bibliotecas\n",
        "import scipy.integrate\n",
        "import numpy as np\n",
        "import matplotlib.pyplot as plt"
      ],
      "execution_count": 0,
      "outputs": []
    },
    {
      "cell_type": "code",
      "metadata": {
        "id": "gNbf6An9UoPk",
        "colab_type": "code",
        "colab": {}
      },
      "source": [
        "def SIR_model(y, t, beta, gamma):\n",
        "    S, I, R = y\n",
        "    \n",
        "    dS_dt = -beta*S*I\n",
        "    dI_dt = beta*S*I - gamma*I\n",
        "    dR_dt = gamma*I\n",
        "    \n",
        "    return([dS_dt, dI_dt, dR_dt])"
      ],
      "execution_count": 0,
      "outputs": []
    },
    {
      "cell_type": "code",
      "metadata": {
        "id": "2TcI7NMwUoPv",
        "colab_type": "code",
        "colab": {}
      },
      "source": [
        "#Configurando valores\n",
        "S0 = 0.7\n",
        "I0 = 0.2\n",
        "R0 = 0\n",
        "beta = 0.3\n",
        "gamma =0.2\n",
        "\n",
        "#Vetor de tempo\n",
        "t = np.linspace (0, 100, 10000)\n",
        "\n",
        "#Resultado\n",
        "solution = scipy.integrate.odeint(SIR_model, [S0, I0, R0], t, args = (beta, gamma))\n",
        "solution = np.array(solution)"
      ],
      "execution_count": 0,
      "outputs": []
    },
    {
      "cell_type": "code",
      "metadata": {
        "id": "7J6t4HCpUoP5",
        "colab_type": "code",
        "outputId": "be915358-f827-4f1f-ea67-93b680b8f122",
        "colab": {
          "base_uri": "https://localhost:8080/",
          "height": 265
        }
      },
      "source": [
        "#Plotar resultado\n",
        "plt.figure(figsize=[6, 4])\n",
        "plt.plot(t, solution[:, 0], label = \"S(t)\")\n",
        "plt.plot(t, solution[:, 1], label = \"I(t)\")\n",
        "plt.plot(t, solution[:, 2], label = \"R(t)\")\n",
        "plt.legend()\n",
        "plt.show()"
      ],
      "execution_count": 0,
      "outputs": [
        {
          "output_type": "display_data",
          "data": {
            "image/png": "[encoded data removed]",
            "text/plain": [
              "<Figure size 432x288 with 1 Axes>"
            ]
          },
          "metadata": {
            "tags": []
          }
        }
      ]
    },
    {
      "cell_type": "code",
      "metadata": {
        "id": "af589684i0p8",
        "colab_type": "code",
        "colab": {}
      },
      "source": [
        ""
      ],
      "execution_count": 0,
      "outputs": []
    }
  ]
}