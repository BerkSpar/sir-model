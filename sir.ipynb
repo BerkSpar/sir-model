{
  "nbformat": 4,
  "nbformat_minor": 0,
  "metadata": {
    "kernelspec": {
      "display_name": "Python 3",
      "language": "python",
      "name": "python3"
    },
    "language_info": {
      "codemirror_mode": {
        "name": "ipython",
        "version": 3
      },
      "file_extension": ".py",
      "mimetype": "text/x-python",
      "name": "python",
      "nbconvert_exporter": "python",
      "pygments_lexer": "ipython3",
      "version": "3.6.7"
    },
    "colab": {
      "name": "sir.ipynb",
      "provenance": [],
      "include_colab_link": true
    }
  },
  "cells": [
    {
      "cell_type": "markdown",
      "metadata": {
        "id": "view-in-github",
        "colab_type": "text"
      },
      "source": [
        "<a href=\"https://colab.research.google.com/github/BerkSpar/sir-model/blob/master/sir.ipynb\" target=\"_parent\"><img src=\"https://colab.research.google.com/assets/colab-badge.svg\" alt=\"Open In Colab\"/></a>"
      ]
    },
    {
      "cell_type": "code",
      "metadata": {
        "id": "61ddDtC_UoPU",
        "colab_type": "code",
        "colab": {}
      },
      "source": [
        "import scipy.integrate\n",
        "import numpy as np\n",
        "import matplotlib.pyplot as plt"
      ],
      "execution_count": 0,
      "outputs": []
    },
    {
      "cell_type": "code",
      "metadata": {
        "id": "G7mAsui6Dxk2",
        "colab_type": "code",
        "colab": {}
      },
      "source": [
        "I0    = 1 #Infectados Inicial\n",
        "R0    = 1 #Recuperados Inicial\n",
        "S0    = 1 #Sucetiveis Inicial\n",
        "u     = 1 #Taxa de mortalidade/natalidade\n",
        "beta  = 1 #Taxa de Infecção\n",
        "gamma = 1 #Taxa de Recuperação"
      ],
      "execution_count": 0,
      "outputs": []
    },
    {
      "cell_type": "code",
      "metadata": {
        "id": "dOnmnHXi75vL",
        "colab_type": "code",
        "colab": {}
      },
      "source": [
        "def SIR_model(initialCondition, timeSteps, beta, gamma):\n",
        "    S, I, R = initialCondition\n",
        "    \n",
        "    N = S + I + R\n",
        "\n",
        "    dS_dt = u*N - u*S - (beta*I*S)/N\n",
        "    dI_dt = (beta*I*S)/N - gamma*I - u * I\n",
        "    dR_dt = gamma*I - u * R\n",
        "    \n",
        "    return([dS_dt, dI_dt, dR_dt])"
      ],
      "execution_count": 0,
      "outputs": []
    },
    {
      "cell_type": "code",
      "metadata": {
        "id": "2TcI7NMwUoPv",
        "colab_type": "code",
        "colab": {}
      },
      "source": [
        "timeSteps = np.linspace (0, 100, 1000)\n",
        "\n",
        "solution = scipy.integrate.odeint(SIR_model, [S0, I0, R0], timeSteps, args = (beta, gamma))\n",
        "solution = np.array(solution)"
      ],
      "execution_count": 0,
      "outputs": []
    },
    {
      "cell_type": "code",
      "metadata": {
        "id": "7J6t4HCpUoP5",
        "colab_type": "code",
        "outputId": "a5794142-10a6-45ec-b450-f137e66797ec",
        "colab": {
          "base_uri": "https://localhost:8080/",
          "height": 320
        }
      },
      "source": [
        "plt.figure(figsize=[10, 5])\n",
        "plt.plot(timeSteps, solution[:, 0], label = \"S(t)\")\n",
        "plt.plot(timeSteps, solution[:, 1], label = \"I(t)\")\n",
        "plt.plot(timeSteps, solution[:, 2], label = \"R(t)\")\n",
        "plt.legend()\n",
        "plt.grid()\n",
        "plt.show()"
      ],
      "execution_count": 15,
      "outputs": [
        {
          "output_type": "display_data",
          "data": {
            "image/png": "[encoded data removed]",
            "text/plain": [
              "<Figure size 720x360 with 1 Axes>"
            ]
          },
          "metadata": {
            "tags": [],
            "needs_background": "light"
          }
        }
      ]
    }
  ]
}